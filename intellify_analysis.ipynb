{
 "cells": [
  {
   "cell_type": "markdown",
   "metadata": {},
   "source": [
    "**All the imports Needed**"
   ]
  },
  {
   "cell_type": "code",
   "execution_count": 42,
   "metadata": {},
   "outputs": [],
   "source": [
    "import pandas as pd\n",
    "import numpy as np\n",
    "from sklearn.model_selection import cross_val_score, StratifiedKFold, train_test_split\n",
    "from sklearn.ensemble import RandomForestClassifier\n",
    "import matplotlib.pyplot as plt\n",
    "# import matplotlib.pyplot as plt\n",
    "from sklearn.metrics import accuracy_score\n",
    "from sklearn.metrics import confusion_matrix\n",
    "from sklearn.metrics import f1_score\n",
    "from sklearn.feature_selection import SelectKBest\n",
    "from sklearn.feature_selection import chi2\n",
    "import seaborn as sns\n",
    "import os\n",
    "from PIL import Image\n",
    "import matplotlib.pyplot as plt\n",
    "from io import StringIO\n",
    "from io import BytesIO\n",
    "# import cStringIO\n",
    "from reportlab.pdfgen import canvas\n",
    "from reportlab.lib.units import inch, cm\n",
    "from reportlab.lib.utils import ImageReader\n",
    "import matplotlib.pyplot as plt\n",
    "import seaborn as sns\n",
    "# import cStringIO\n",
    "from reportlab.platypus import Image\n",
    "\n",
    "from reportlab.platypus import Flowable\n",
    "\n",
    "from pdfrw import PdfReader, PdfDict\n",
    "from pdfrw.buildxobj import pagexobj\n",
    "from pdfrw.toreportlab import makerl"
   ]
  },
  {
   "cell_type": "markdown",
   "metadata": {},
   "source": [
    "**Reading Data**"
   ]
  },
  {
   "cell_type": "code",
   "execution_count": 2,
   "metadata": {},
   "outputs": [
    {
     "name": "stdout",
     "output_type": "stream",
     "text": [
      "   Unnamed: 0             Quiz Name  Class  ZipGrade ID  level  School id  \\\n",
      "0           0  Level 1 5020 Aanchal    NaN      5020005      1     5020.0   \n",
      "1           1  Level 1 5020 Aanchal    NaN      5020074      1     5020.0   \n",
      "2           2  Level 1 5020 Aanchal    NaN      5020072      1     5020.0   \n",
      "3           3  Level 1 5020 Aanchal    NaN      5020041      1     5020.0   \n",
      "4           4  Level 1 5020 Aanchal    NaN      5020019      1     5020.0   \n",
      "\n",
      "   First Name  Last Name  Num Questions  Num Correct ...   Q36  Q37  Q38  Q39  \\\n",
      "0         NaN        NaN            180           44 ...     0    0    0    0   \n",
      "1         NaN        NaN            180           36 ...     0    0    0    0   \n",
      "2         NaN        NaN            180           52 ...     0    4    0    0   \n",
      "3         NaN        NaN            180           68 ...     0    4    0    0   \n",
      "4         NaN        NaN            180           72 ...     4    4    0    4   \n",
      "\n",
      "   Q40  Q41  Q42  Q43  Q44  Q45  \n",
      "0    0    0    0    0    0    0  \n",
      "1    0    0    0    0    0    0  \n",
      "2    0    0    0    0    0    0  \n",
      "3    0    0    4    0    0    0  \n",
      "4    0    0    0    4    0    4  \n",
      "\n",
      "[5 rows x 57 columns]\n"
     ]
    }
   ],
   "source": [
    "data_csv = pd.read_csv(\"alldata.csv\")\n",
    "print(data_csv.head())"
   ]
  },
  {
   "cell_type": "markdown",
   "metadata": {},
   "source": [
    "**Data transposing, skill labelling and difficulty labelling of questions**"
   ]
  },
  {
   "cell_type": "code",
   "execution_count": 3,
   "metadata": {},
   "outputs": [
    {
     "name": "stdout",
     "output_type": "stream",
     "text": [
      "Each difficulty level has same number of questions.This is nice!\n"
     ]
    }
   ],
   "source": [
    "numSkills=5\n",
    "questionStartIndex=1\n",
    "questionEndIndex=45\n",
    "numQuestions=(questionEndIndex-questionStartIndex+1)\n",
    "numberOfDifficultyLevels=5.0\n",
    "if((questionEndIndex-questionStartIndex+1)%numberOfDifficultyLevels!=0):\n",
    "    print('There is uneven divide in the difficulty levels. Please look into it.')\n",
    "else:\n",
    "    print('Each difficulty level has same number of questions.This is nice!')\n",
    "questionsInEachDifficultyLevel=(questionEndIndex-questionStartIndex+1)/numberOfDifficultyLevels\n",
    "q_cols = ['Q' + str(i) for i in range(questionStartIndex,questionEndIndex+1)]\n",
    "answerCols=data_csv[q_cols]\n",
    "numStudents=answerCols.shape[0]\n",
    "# correctResponsesForEachQuestion=answerCols.astype(bool).sum(axis=0)\n",
    "# sortedcorrectResponsesForEachQuestion=correctResponsesForEachQuestion.sort_values(ascending=True)\n",
    "# sortedcorrectResponsesForEachQuestionDf=sortedcorrectResponsesForEachQuestion.to_frame()\n",
    "transposed_df=answerCols.transpose()\n",
    "transposed_df['numCorrect']=transposed_df.astype(bool).sum(axis=1)\n",
    "transposed_df['qid'] = range(questionStartIndex, questionStartIndex+len(transposed_df))\n",
    "transposed_df['correctPercentage']=transposed_df['numCorrect']*100.0/numStudents\n",
    "transposed_df['skillType']=0\n",
    "transposed_df.loc[(transposed_df['qid']>=1)&(transposed_df['qid']<=10),'skillType' ]=1\n",
    "transposed_df.loc[(transposed_df['qid']>=11)&(transposed_df['qid']<=20),'skillType' ]=2\n",
    "transposed_df.loc[(transposed_df['qid']>=21)&(transposed_df['qid']<=30),'skillType' ]=3\n",
    "transposed_df.loc[(transposed_df['qid']>=31)&(transposed_df['qid']<=40),'skillType' ]=4\n",
    "transposed_df.loc[(transposed_df['qid']>=41)&(transposed_df['qid']<=45),'skillType' ]=5\n",
    "colsReqd=['numCorrect','qid','correctPercentage','skillType']\n",
    "reqdDf=transposed_df[colsReqd].sort_values('correctPercentage',ascending=False)\n",
    "reqdDf['difficulty_level']=0\n",
    "for i in range(1,int(numberOfDifficultyLevels+1)):\n",
    "    reqdDf.iloc[int((i-1)*questionsInEachDifficultyLevel):int((i)*questionsInEachDifficultyLevel),-1]=i"
   ]
  },
  {
   "cell_type": "markdown",
   "metadata": {},
   "source": [
    "**Histogram of Question number to percentage of people who answered it correctly**"
   ]
  },
  {
   "cell_type": "code",
   "execution_count": 4,
   "metadata": {},
   "outputs": [
    {
     "data": {
      "text/plain": [
       "<matplotlib.axes._subplots.AxesSubplot at 0x7fa8f4aea5f8>"
      ]
     },
     "execution_count": 4,
     "metadata": {},
     "output_type": "execute_result"
    },
    {
     "data": {
      "image/png": "[encoded data removed]",
      "text/plain": [
       "<Figure size 432x288 with 1 Axes>"
      ]
     },
     "metadata": {},
     "output_type": "display_data"
    }
   ],
   "source": [
    "reqdDf.plot(kind='bar',x='qid',y='correctPercentage')"
   ]
  },
  {
   "cell_type": "markdown",
   "metadata": {},
   "source": [
    "**Table of Question Wise Details ie. percentageCorrectlyAnswered, skill-type and difficulty-level**"
   ]
  },
  {
   "cell_type": "code",
   "execution_count": 5,
   "metadata": {},
   "outputs": [
    {
     "name": "stdout",
     "output_type": "stream",
     "text": [
      "     numCorrect  qid  correctPercentage  skillType  difficulty_level\n",
      "Q1          880    1          38.989809          1                 2\n",
      "Q2          788    2          34.913602          1                 2\n",
      "Q3          742    3          32.875498          1                 3\n",
      "Q4          723    4          32.033673          1                 4\n",
      "Q5          659    5          29.198051          1                 4\n",
      "Q6          869    6          38.502437          1                 2\n",
      "Q7          708    7          31.369074          1                 4\n",
      "Q8          632    8          28.001772          1                 4\n",
      "Q9         1055    9          46.743465          1                 1\n",
      "Q10         889   10          39.388569          1                 1\n",
      "Q11         932   11          41.293753          2                 1\n",
      "Q12         943   12          41.781125          2                 1\n",
      "Q13        1292   13          57.244129          2                 1\n",
      "Q14        1204   14          53.345148          2                 1\n",
      "Q15        1084   15          48.028356          2                 1\n",
      "Q16         942   16          41.736819          2                 1\n",
      "Q17         751   17          33.274258          2                 3\n",
      "Q18         712   18          31.546300          2                 4\n",
      "Q19         761   19          33.717324          2                 3\n",
      "Q20         875   20          38.768276          2                 2\n",
      "Q21         394   21          17.456801          3                 5\n",
      "Q22         776   22          34.381923          3                 3\n",
      "Q23         587   23          26.007975          3                 5\n",
      "Q24         565   24          25.033230          3                 5\n",
      "Q25         692   25          30.660168          3                 4\n",
      "Q26         606   26          26.849801          3                 5\n",
      "Q27         435   27          19.273372          3                 5\n",
      "Q28         626   28          27.735933          3                 5\n",
      "Q29         596   29          26.406735          3                 5\n",
      "Q30         543   30          24.058485          3                 5\n",
      "Q31         876   31          38.812583          4                 2\n",
      "Q32         772   32          34.204696          4                 3\n",
      "Q33        1006   33          44.572441          4                 1\n",
      "Q34         733   34          32.476739          4                 3\n",
      "Q35         654   35          28.976518          4                 4\n",
      "Q36         788   36          34.913602          4                 2\n",
      "Q37         724   37          32.077980          4                 3\n",
      "Q38         729   38          32.299513          4                 3\n",
      "Q39         390   39          17.279575          4                 5\n",
      "Q40         809   40          35.844041          4                 2\n",
      "Q41         679   41          30.084183          5                 4\n",
      "Q42         882   42          39.078423          5                 2\n",
      "Q43         776   43          34.381923          5                 3\n",
      "Q44         808   44          35.799734          5                 2\n",
      "Q45         718   45          31.812140          5                 4\n"
     ]
    }
   ],
   "source": [
    "print(reqdDf.sort_values('qid'))"
   ]
  },
  {
   "cell_type": "markdown",
   "metadata": {},
   "source": [
    "**Skill-Wise Difficulty Information**"
   ]
  },
  {
   "cell_type": "code",
   "execution_count": 6,
   "metadata": {},
   "outputs": [
    {
     "name": "stdout",
     "output_type": "stream",
     "text": [
      "           difficulty_level  skillType\n",
      "skillType                             \n",
      "1                       2.7          1\n",
      "2                       1.8          2\n",
      "3                       4.7          3\n",
      "4                       2.8          4\n",
      "5                       3.0          5\n"
     ]
    },
    {
     "data": {
      "text/plain": [
       "<matplotlib.axes._subplots.AxesSubplot at 0x7fa8f29031d0>"
      ]
     },
     "execution_count": 6,
     "metadata": {},
     "output_type": "execute_result"
    },
    {
     "data": {
      "image/png": "[encoded data removed]",
      "text/plain": [
       "<Figure size 432x288 with 1 Axes>"
      ]
     },
     "metadata": {},
     "output_type": "display_data"
    }
   ],
   "source": [
    "skillDifficultyDf=(reqdDf.groupby(['skillType'])['difficulty_level'].mean()).to_frame()\n",
    "skillDifficultyDf['skillType']=skillDifficultyDf.index\n",
    "print(skillDifficultyDf)\n",
    "skillDifficultyDf.plot(kind='bar',x='skillType',y='difficulty_level')"
   ]
  },
  {
   "cell_type": "markdown",
   "metadata": {},
   "source": [
    "**End of Task1**"
   ]
  },
  {
   "cell_type": "markdown",
   "metadata": {},
   "source": [
    "**Start of Task2**"
   ]
  },
  {
   "cell_type": "markdown",
   "metadata": {},
   "source": [
    "**Assigning Weight to each question as (1-fractionOfPeopleWhoAnsweredCorrectly)**"
   ]
  },
  {
   "cell_type": "code",
   "execution_count": 7,
   "metadata": {},
   "outputs": [
    {
     "name": "stdout",
     "output_type": "stream",
     "text": [
      "     numCorrect  qid  correctPercentage  skillType  difficulty_level    weight\n",
      "Q13        1292   13          57.244129          2                 1  0.427559\n",
      "Q14        1204   14          53.345148          2                 1  0.466549\n",
      "Q15        1084   15          48.028356          2                 1  0.519716\n",
      "Q9         1055    9          46.743465          1                 1  0.532565\n",
      "Q33        1006   33          44.572441          4                 1  0.554276\n"
     ]
    }
   ],
   "source": [
    "reqdDf['weight']=1-(reqdDf['correctPercentage']/100)\n",
    "print(reqdDf.head())"
   ]
  },
  {
   "cell_type": "markdown",
   "metadata": {},
   "source": [
    "**Calculating data for each student**"
   ]
  },
  {
   "cell_type": "code",
   "execution_count": 9,
   "metadata": {},
   "outputs": [],
   "source": [
    "studentIdArray=data_csv['ZipGrade ID'].values\n",
    "responsesArray=answerCols.values\n",
    "dict_correctResponses={}\n",
    "dict_wrongResponses={}\n",
    "dict_skill_correct={}\n",
    "dict_skill_incorrect={}\n",
    "for c_skillType in range(1,numSkills+1):\n",
    "    dict_skill_correct[c_skillType]={}\n",
    "    dict_skill_incorrect[c_skillType]={}\n",
    "skillWiseScore={}\n",
    "for t in range(numStudents):\n",
    "    currStudentId=studentIdArray[t]\n",
    "    currResponses=responsesArray[t]\n",
    "    currDf=reqdDf.copy()\n",
    "    currDf['response']=currResponses\n",
    "    currDf['qStr']=currDf.index\n",
    "    correctMask=(currDf['response'].astype(bool)==True)\n",
    "    incorrectMask=(currDf['response'].astype(bool)==False)\n",
    "    for c_skillType in range(1,numSkills+1):\n",
    "        c_skillMask=(currDf['skillType']==c_skillType)\n",
    "        cs_correctMask = correctMask & c_skillMask\n",
    "        cs_incorrectMask = incorrectMask & c_skillMask\n",
    "        dict_skill_correct[c_skillType][currStudentId] =  cs_correctMask.sum()\n",
    "        dict_skill_incorrect[c_skillType][currStudentId] =  cs_incorrectMask.sum()\n",
    "    correctlyAnsweredQuestions=currDf['qStr'][correctMask].values\n",
    "    wronglyAnsweredQuestions=currDf['qStr'][incorrectMask].values\n",
    "    dict_correctResponses[currStudentId]=correctlyAnsweredQuestions\n",
    "    dict_wrongResponses[currStudentId]=wronglyAnsweredQuestions\n",
    "    curr_skill_weight_df=(currDf[correctMask].groupby(['skillType'])['weight'].sum().to_frame())\n",
    "    for c_skillType in range(1,numSkills+1):\n",
    "        if(c_skillType not in curr_skill_weight_df.index):\n",
    "            curr_skill_weight_df.loc[c_skillType] = [0.0]\n",
    "    skillWiseScore[currStudentId]=(curr_skill_weight_df.reset_index().sort_values('skillType'))['weight'].values"
   ]
  },
  {
   "cell_type": "markdown",
   "metadata": {},
   "source": [
    "**Relevant data for a student being fetched with student_id**"
   ]
  },
  {
   "cell_type": "code",
   "execution_count": 10,
   "metadata": {},
   "outputs": [
    {
     "name": "stdout",
     "output_type": "stream",
     "text": [
      "Correctly Answered Questions: ['Q14' 'Q15' 'Q40' 'Q22' 'Q43' 'Q32' 'Q17' 'Q4' 'Q18' 'Q29' 'Q21']\n",
      "Wrongly Answered Questions: ['Q13' 'Q9' 'Q33' 'Q12' 'Q16' 'Q11' 'Q10' 'Q42' 'Q1' 'Q31' 'Q20' 'Q6'\n",
      " 'Q44' 'Q36' 'Q2' 'Q19' 'Q3' 'Q34' 'Q38' 'Q37' 'Q45' 'Q7' 'Q25' 'Q41' 'Q5'\n",
      " 'Q35' 'Q8' 'Q28' 'Q26' 'Q23' 'Q24' 'Q30' 'Q27' 'Q39']\n",
      "Skill Wise Weighted Scores: [0.67966327 2.33805937 2.21754541 1.29951263 0.65618077]\n",
      "Total Score: 7.190961453256536\n"
     ]
    }
   ],
   "source": [
    "studentId_whoseInfoIsNeeded=5012012\n",
    "print('Correctly Answered Questions:',dict_correctResponses[studentId_whoseInfoIsNeeded])\n",
    "print('Wrongly Answered Questions:',dict_wrongResponses[studentId_whoseInfoIsNeeded])\n",
    "print('Skill Wise Weighted Scores:',skillWiseScore[studentId_whoseInfoIsNeeded])\n",
    "print('Total Score:',skillWiseScore[studentId_whoseInfoIsNeeded].sum())"
   ]
  },
  {
   "cell_type": "markdown",
   "metadata": {},
   "source": [
    "**Adding Ranking data for each student for each skill**"
   ]
  },
  {
   "cell_type": "code",
   "execution_count": 11,
   "metadata": {},
   "outputs": [
    {
     "name": "stdout",
     "output_type": "stream",
     "text": [
      "         score_skill_1  score_skill_2  score_skill_3  score_skill_4  \\\n",
      "5020005       1.753655       2.093487       0.000000       1.904298   \n",
      "5020074       1.301285       1.661054       0.693398       1.928666   \n",
      "5020072       1.827204       2.141781       0.722641       1.287107   \n",
      "5020041       2.433319       3.921134       1.482056       1.262738   \n",
      "5020019       1.867523       3.476296       2.265840       2.080638   \n",
      "5020061       1.221090       2.959681       2.182986       1.920691   \n",
      "5020004       1.147541       1.476739       2.250332       2.126717   \n",
      "5020040       1.827204       1.626938       0.722641       1.941958   \n",
      "5020010       2.498449       2.801063       1.463447       1.939743   \n",
      "5020017       1.225078       3.396101       2.265840       1.967656   \n",
      "502003        0.614976       1.078866       0.000000       1.292424   \n",
      "5020052       2.439965       1.622065       1.548073       3.137794   \n",
      "5020050       0.614976       1.622508       0.731502       0.641560   \n",
      "5020026       2.363757       2.915817       2.190075       1.468764   \n",
      "5020077       1.907399       2.767833       2.232167       1.863093   \n",
      "5020034       1.221090       2.872397       1.529907       0.554276   \n",
      "5020008       1.265840       2.378821       1.378821       2.731502   \n",
      "5020045       2.579973       1.879043       1.443066       1.262738   \n",
      "5020033       2.665485       2.088613       1.548073       1.326097   \n",
      "5020001       3.197164       1.661054       1.378821       4.033673   \n",
      "5020029       1.221090       2.858219       1.529907       2.080638   \n",
      "5020043       1.265840       1.296854       1.538768       2.080638   \n",
      "5020046       1.334958       0.612317       0.739920       1.439078   \n",
      "5020048       2.551174       2.751440       1.467435       1.385467   \n",
      "5020037       2.551174       2.751440       1.467435       1.502437   \n",
      "5020003       3.298626       2.139123       4.306602       0.677005   \n",
      "5020011       2.587062       1.672574       2.204253       1.292424   \n",
      "502030        1.833850       2.826318       3.756314       1.337173   \n",
      "5020049       1.221090       1.194506       1.556934       1.253434   \n",
      "5020022       1.221090       2.461675       0.000000       1.963669   \n",
      "...                ...            ...            ...            ...   \n",
      "5016631       2.575100       2.848028       4.317235       2.720425   \n",
      "5016632       3.983607       1.194506       5.128489       3.909171   \n",
      "5016633       2.042977       2.143553       2.825432       3.332300   \n",
      "5016637       2.575543       2.323881       4.369074       2.556934   \n",
      "5016640       3.255206       1.194506       5.856004       1.368188   \n",
      "5016641       2.502437       0.612317       2.072220       0.000000   \n",
      "5016643       3.975188       1.942401       5.949934       3.512184   \n",
      "5016644       1.289765       2.756314       4.388569       3.521489   \n",
      "5016645       3.995126       1.879043       1.485600       2.824546   \n",
      "5016648       2.579973       1.794860       2.963226       3.973859   \n",
      "5016649       3.202038       3.471865       4.321223       3.826761   \n",
      "5016651       2.693841       1.661054       3.792202       3.513957   \n",
      "5016653       2.539211       1.039876       3.619406       1.385467   \n",
      "5016654       2.693841       2.391670       4.293310       4.180771   \n",
      "5016655       1.887461       2.306602       2.165264       2.872397   \n",
      "5016656       2.579973       1.275144       5.856004       4.567125   \n",
      "5016658       3.263624       1.132034       3.599911       0.657953   \n",
      "501665        2.579973       1.799291       2.972973       1.964112   \n",
      "5016660       1.973859       2.952149       3.704032       4.159504   \n",
      "5016662       1.225078       1.279575       4.401861       3.471865   \n",
      "5016590       1.993797       0.684537       2.207355       0.000000   \n",
      "5016646       3.190075       2.141781       5.856004       3.354896   \n",
      "5016635       2.433319       2.173682       2.939743       2.713336   \n",
      "5016634       1.871954       1.275144       2.906513       3.361985   \n",
      "5015510       4.621179       0.612317       4.377935       3.540541   \n",
      "5016608       1.929109       0.662827       2.906513       2.529021   \n",
      "5016598       1.867523       0.587062       1.405848       1.316792   \n",
      "5016597       1.399646       1.249446       0.656181       1.316792   \n",
      "5016591       2.722641       2.836509       0.656181       1.993797   \n",
      "5016636       3.832964       2.226850       1.392113       4.558706   \n",
      "\n",
      "         score_skill_5  score_skill_0  skill_rank_0  skill_rank_1  \\\n",
      "5020005       0.681879       6.433319        1885.0        1575.0   \n",
      "5020074       0.000000       5.584404        2015.0        1727.0   \n",
      "5020072       1.947275       7.926008        1526.0        1531.0   \n",
      "5020041       1.251218      10.350465         892.0        1065.0   \n",
      "5020019       1.933097      11.623394         628.0        1482.0   \n",
      "5020061       0.656181       8.940629        1260.0        1852.0   \n",
      "5020004       0.609216       7.610545        1603.0        1943.0   \n",
      "5020040       0.609216       6.727957        1827.0        1532.0   \n",
      "5020010       1.338059      10.040762         983.0        1007.0   \n",
      "5020017       1.251218      10.105893         965.0        1837.0   \n",
      "502003        0.642003       3.628268        2157.0        2041.0   \n",
      "5020052       1.980062      10.727957         797.0        1057.0   \n",
      "5020050       0.642003       4.252548        2134.0        2042.0   \n",
      "5020026       0.681879       9.620292        1082.0        1097.0   \n",
      "5020077       2.037218      10.807709         780.0        1378.0   \n",
      "5020034       1.298183       7.475853        1647.0        1853.0   \n",
      "5020008       1.298183       9.053168        1225.0        1799.0   \n",
      "5020045       0.656181       7.821001        1559.0         872.0   \n",
      "5020033       0.656181       8.284448        1436.0         721.0   \n",
      "5020001       0.642003      10.912716         757.0         519.0   \n",
      "5020029       1.308374       8.998228        1240.0        1854.0   \n",
      "5020043       0.609216       6.791316        1810.0        1800.0   \n",
      "5020046       0.699158       4.825432        2093.0        1668.0   \n",
      "5020048       1.950377      10.105893         966.0         933.0   \n",
      "5020037       1.950377      10.222862         933.0         934.0   \n",
      "5020003       0.656181      11.077537         729.0         415.0   \n",
      "5020011       0.656181       8.412494        1402.0         855.0   \n",
      "502030        0.699158      10.452813         868.0        1512.0   \n",
      "5020049       0.656181       5.882144        1980.0        1855.0   \n",
      "5020022       0.656181       6.302614        1915.0        1856.0   \n",
      "...                ...            ...           ...           ...   \n",
      "5016631       2.606557      15.067346         237.0         895.0   \n",
      "5016632       1.251218      15.466992         201.0         183.0   \n",
      "5016633       1.947275      12.291537         526.0        1127.0   \n",
      "5016637       0.609216      12.434648         509.0         889.0   \n",
      "5016640       0.609216      12.283119         529.0         462.0   \n",
      "5016641       0.609216       5.796190        1990.0        1005.0   \n",
      "5016643       2.606557      17.986265          88.0         189.0   \n",
      "5016644       1.341161      13.297297         404.0        1773.0   \n",
      "5016645       0.699158      10.883474         761.0         180.0   \n",
      "5016648       1.907399      13.219318         420.0         878.0   \n",
      "5016649       1.265397      16.087284         168.0         515.0   \n",
      "5016651       1.933097      13.594152         367.0         686.0   \n",
      "5016653       0.000000       8.583961        1361.0         967.0   \n",
      "5016654       1.907399      15.466992         202.0         687.0   \n",
      "5016655       0.000000       9.231724        1188.0        1455.0   \n",
      "5016656       1.308374      15.586619         194.0         879.0   \n",
      "5016658       0.642003       9.295525        1171.0         446.0   \n",
      "501665        1.964555      11.280904         683.0         880.0   \n",
      "5016660       1.907399      14.696943         263.0        1250.0   \n",
      "5016662       1.907399      12.285778         527.0        1851.0   \n",
      "5016590       0.000000       4.885689        2085.0        1220.0   \n",
      "5016646       1.907399      16.450155         149.0         529.0   \n",
      "5016635       0.609216      10.869296         766.0        1071.0   \n",
      "5016634       2.023039      11.438635         657.0        1479.0   \n",
      "5015510       0.642003      13.793974         340.0          59.0   \n",
      "5016608       0.000000       8.027470        1508.0        1349.0   \n",
      "5016598       0.699158       5.876385        1981.0        1490.0   \n",
      "5016597       1.907399       6.529464        1858.0        1614.0   \n",
      "5016591       1.251218       9.460346        1124.0         665.0   \n",
      "5016636       0.609216      12.619849         484.0         285.0   \n",
      "\n",
      "         skill_rank_2  skill_rank_3  skill_rank_4  skill_rank_5  \n",
      "5020005         996.0        2100.0        1185.0        1478.0  \n",
      "5020074        1374.0        2020.0        1150.0        1942.0  \n",
      "5020072         971.0        1986.0        1634.0         556.0  \n",
      "5020041          64.0        1612.0        1662.0        1212.0  \n",
      "5020019         162.0        1086.0         899.0         577.0  \n",
      "5020061         390.0        1288.0        1164.0        1548.0  \n",
      "5020004        1514.0        1116.0         859.0        1821.0  \n",
      "5020040        1407.0        1987.0        1111.0        1822.0  \n",
      "5020010         515.0        1669.0        1120.0         880.0  \n",
      "5020017         191.0        1087.0        1069.0        1213.0  \n",
      "502003         1834.0        2101.0        1596.0        1692.0  \n",
      "5020052        1421.0        1495.0         411.0         438.0  \n",
      "5020050        1413.0        1958.0        1982.0        1693.0  \n",
      "5020026         412.0        1272.0        1337.0        1479.0  \n",
      "5020077         526.0        1151.0        1237.0         251.0  \n",
      "5020034         433.0        1539.0        2069.0        1021.0  \n",
      "5020008         733.0        1794.0         548.0        1022.0  \n",
      "5020045        1098.0        1709.0        1663.0        1549.0  \n",
      "5020033        1005.0        1496.0        1497.0        1550.0  \n",
      "5020001        1375.0        1795.0         136.0        1694.0  \n",
      "5020029         451.0        1540.0         900.0         949.0  \n",
      "5020043        1546.0        1529.0         901.0        1823.0  \n",
      "5020046        1974.0        1925.0        1354.0        1303.0  \n",
      "5020048         542.0        1665.0        1382.0         515.0  \n",
      "5020037         543.0        1666.0        1321.0         516.0  \n",
      "5020003         986.0         224.0        1861.0        1551.0  \n",
      "5020011        1359.0        1247.0        1597.0        1552.0  \n",
      "502030          485.0         327.0        1458.0        1304.0  \n",
      "5020049        1681.0        1477.0        1685.0        1553.0  \n",
      "5020022         664.0        2102.0        1088.0        1554.0  \n",
      "...               ...           ...           ...           ...  \n",
      "5016631         461.0         221.0         558.0         240.0  \n",
      "5016632        1707.0          75.0         194.0        1301.0  \n",
      "5016633         969.0         906.0         326.0         576.0  \n",
      "5016637         804.0         212.0         713.0        1937.0  \n",
      "5016640        1708.0          22.0        1407.0        1938.0  \n",
      "5016641        2025.0        1411.0        2193.0        1939.0  \n",
      "5016643        1064.0          14.0         236.0         241.0  \n",
      "5016644         535.0         206.0         230.0         879.0  \n",
      "5016645        1102.0        1611.0         473.0        1476.0  \n",
      "5016648        1193.0         756.0         178.0         665.0  \n",
      "5016649         164.0         220.0         213.0        1211.0  \n",
      "5016651        1392.0         282.0         233.0         608.0  \n",
      "5016653        1884.0         518.0        1394.0        2191.0  \n",
      "5016654         717.0         229.0          92.0         666.0  \n",
      "5016655         816.0        1320.0         430.0        2192.0  \n",
      "5016656        1587.0          23.0          82.0        1020.0  \n",
      "5016658        1769.0         523.0        1941.0        1819.0  \n",
      "501665         1183.0         725.0        1087.0         514.0  \n",
      "5016660         403.0         392.0          93.0         667.0  \n",
      "5016662        1575.0         200.0         250.0         668.0  \n",
      "5016590        1936.0        1246.0        2194.0        2193.0  \n",
      "5016646         980.0          24.0         313.0         669.0  \n",
      "5016635         945.0         791.0         564.0        1940.0  \n",
      "5016634        1588.0         833.0         308.0         311.0  \n",
      "5015510        2026.0         210.0         223.0        1820.0  \n",
      "5016608        1973.0         834.0         719.0        2194.0  \n",
      "5016598        2040.0        1761.0        1579.0        1477.0  \n",
      "5016597        1625.0        2098.0        1580.0         670.0  \n",
      "5016591         472.0        2099.0        1032.0        1302.0  \n",
      "5016636         892.0        1783.0          83.0        1941.0  \n",
      "\n",
      "[2194 rows x 12 columns]\n"
     ]
    }
   ],
   "source": [
    "studentScoresDf=pd.DataFrame.from_dict(skillWiseScore).transpose()\n",
    "studentScoresDf.columns = ['score_skill_' + str(i) for i in range(1,numSkills+1)]\n",
    "studentScoresDf['score_skill_0'] = studentScoresDf.sum(axis=1)\n",
    "for i in range(numSkills+1):\n",
    "    studentScoresDf['skill_rank_'+str(i)] = studentScoresDf['score_skill_'+str(i)].rank(ascending=False,method='first')\n",
    "print(studentScoresDf)"
   ]
  },
  {
   "cell_type": "markdown",
   "metadata": {},
   "source": [
    "**Making String for each part which is to be flushed to the pdf**"
   ]
  },
  {
   "cell_type": "code",
   "execution_count": 17,
   "metadata": {},
   "outputs": [],
   "source": [
    "c_studentId=5012026\n",
    "lbreak_reportlab='<br/>'\n",
    "correctAnswerStr='CORRECTLY ANSWERED QUESTIONS'+lbreak_reportlab+lbreak_reportlab+lbreak_reportlab\n",
    "for q_index in dict_correctResponses[c_studentId]:\n",
    "    curr_correctPercentage=(reqdDf.loc[q_index,'correctPercentage'])\n",
    "    curr_weight=(reqdDf.loc[q_index,'weight'])\n",
    "    correctAnswerStr+='QuestionNumber::'+q_index+lbreak_reportlab\n",
    "    correctAnswerStr+='CorrectPercentage::'+str(curr_correctPercentage)+lbreak_reportlab\n",
    "    correctAnswerStr+='ProblemWeight::'+str(curr_weight)+lbreak_reportlab\n",
    "    correctAnswerStr+=(lbreak_reportlab)\n",
    "\n",
    "wrongAnswerStr='INCORRECTLY ANSWERED QUESTIONS'+lbreak_reportlab+lbreak_reportlab\n",
    "for q_index in dict_wrongResponses[c_studentId]:\n",
    "    curr_correctPercentage=(reqdDf.loc[q_index,'correctPercentage'])\n",
    "    curr_weight=(reqdDf.loc[q_index,'weight'])\n",
    "    wrongAnswerStr+='QuestionNumber::'+q_index+lbreak_reportlab\n",
    "    wrongAnswerStr+='CorrectPercentage::'+str(curr_correctPercentage)+lbreak_reportlab\n",
    "    wrongAnswerStr+='ProblemWeight::'+str(curr_weight)+lbreak_reportlab\n",
    "    wrongAnswerStr+=(lbreak_reportlab)  "
   ]
  },
  {
   "cell_type": "code",
   "execution_count": 18,
   "metadata": {},
   "outputs": [],
   "source": [
    "overallResult=\"AGGREGATED SUMMARY\"+lbreak_reportlab\n",
    "overallResult+=\"Student Rank:\"+str(studentScoresDf.loc[c_studentId,'skill_rank_0'])+\" out of \"+ str(numStudents)+lbreak_reportlab+' Total Score :'+str(studentScoresDf.loc[c_studentId,'score_skill_0'])+lbreak_reportlab"
   ]
  },
  {
   "cell_type": "code",
   "execution_count": 19,
   "metadata": {},
   "outputs": [],
   "source": [
    "scoreRankStr=\"SKILL WISE RESULTS\"+lbreak_reportlab+lbreak_reportlab+lbreak_reportlab+lbreak_reportlab\n",
    "for t in range(1,numSkills+1):\n",
    "    scoreRankStr+= \"RESULTS FOR SKILL \"+ str(t)+lbreak_reportlab+lbreak_reportlab\n",
    "    scoreRankStr+=\"Skill_Rank:\"+str(studentScoresDf.loc[c_studentId,'skill_rank_'+str(t)])+\" out of \"+ str(numStudents)+lbreak_reportlab\n",
    "    scoreRankStr+='Skill_Score:'+str(studentScoresDf.loc[c_studentId,'score_skill_'+str(t)])+lbreak_reportlab\n",
    "    scoreRankStr+='Correctly Answered:'+str(dict_skill_correct[t][c_studentId])+lbreak_reportlab\n",
    "    scoreRankStr+='InCorrectly Answered:'+str(dict_skill_incorrect[t][c_studentId])+lbreak_reportlab\n",
    "    scoreRankStr+=lbreak_reportlab+lbreak_reportlab+lbreak_reportlab"
   ]
  },
  {
   "cell_type": "markdown",
   "metadata": {},
   "source": [
    "**Final Flushing data to the Pdf**"
   ]
  },
  {
   "cell_type": "code",
   "execution_count": 20,
   "metadata": {},
   "outputs": [],
   "source": [
    "# Sample platypus document\n",
    "# From the FAQ at reportlab.org/oss/rl-toolkit/faq/#1.1\n",
    "from reportlab.platypus import SimpleDocTemplate, Paragraph, Spacer\n",
    "from reportlab.lib.styles import getSampleStyleSheet\n",
    "from reportlab.rl_config import defaultPageSize\n",
    "from reportlab.lib.units import inch\n",
    "\n",
    "PAGE_HEIGHT=defaultPageSize[1]\n",
    "PAGE_WIDTH=defaultPageSize[0]\n",
    "styles = getSampleStyleSheet()\n",
    "Title = \"Student Report__\"+str(c_studentId)\n",
    "pageinfo = c_studentId\n",
    "\n",
    "def myFirstPage(canvas, doc):\n",
    "    canvas.saveState()\n",
    "    canvas.setFont('Times-Bold',16)\n",
    "    canvas.drawCentredString(PAGE_WIDTH/2.0, PAGE_HEIGHT-108, Title)\n",
    "    canvas.setFont('Times-Roman',9)\n",
    "    canvas.drawString(inch, 0.75 * inch,\"First Page / %s\" % pageinfo)\n",
    "    canvas.restoreState()\n",
    "    \n",
    "def myLaterPages(canvas, doc):\n",
    "    canvas.saveState()\n",
    "    canvas.setFont('Times-Roman', 9)\n",
    "    canvas.drawString(inch, 0.75 * inch,\"Page %d %s\" % (doc.page, pageinfo))\n",
    "    canvas.restoreState()\n",
    "    \n",
    "def go():\n",
    "    doc = SimpleDocTemplate(\"phello.pdf\")\n",
    "    Story = [Spacer(1,2*inch)]\n",
    "    style = styles[\"Normal\"]\n",
    "    p = Paragraph(correctAnswerStr, style)\n",
    "    Story.append(p)\n",
    "    Story.append(Spacer(1,0.2*inch))\n",
    "    p = Paragraph(wrongAnswerStr, style)\n",
    "    Story.append(p)\n",
    "    Story.append(Spacer(1,0.2*inch))\n",
    "    \n",
    "    p = Paragraph(overallResult, style)\n",
    "    Story.append(p)\n",
    "    Story.append(Spacer(1,0.2*inch))\n",
    "    \n",
    "    p = Paragraph(scoreRankStr, style)\n",
    "    Story.append(p)\n",
    "    Story.append(Spacer(1,0.2*inch))\n",
    "    doc.build(Story, onFirstPage=myFirstPage, onLaterPages=myLaterPages)\n",
    "    \n",
    "if __name__ == \"__main__\":\n",
    "    go()"
   ]
  },
  {
   "cell_type": "markdown",
   "metadata": {},
   "source": [
    "**Example of how what type of chart can be inserted for each question**"
   ]
  },
  {
   "cell_type": "code",
   "execution_count": 35,
   "metadata": {},
   "outputs": [
    {
     "data": {
      "image/png": "[encoded data removed]",
      "text/plain": [
       "<Figure size 432x288 with 1 Axes>"
      ]
     },
     "metadata": {},
     "output_type": "display_data"
    }
   ],
   "source": [
    "for q_index in dict_correctResponses[c_studentId]:\n",
    "    curr_correctPercentage=(reqdDf.loc[q_index,'correctPercentage'])\n",
    "    curr_weight=(reqdDf.loc[q_index,'weight'])\n",
    "\n",
    "# Pie chart, where the slices will be ordered and plotted counter-clockwise:\n",
    "labels = 'Correct', 'Incorrect'\n",
    "sizes = [curr_correctPercentage, 100.0-curr_correctPercentage]\n",
    "fig1, ax1 = plt.subplots()\n",
    "ax1.pie(sizes, labels=labels, autopct='%1.1f%%',\n",
    "        shadow=True, startangle=90)\n",
    "ax1.axis('equal')  # Equal aspect ratio ensures that pie is drawn as a circle.\n",
    "plt.show()\n",
    "\n",
    "# sns_plot.figure.savefig(imgdata, format='png')\n",
    "\n",
    "# imgdata = StringIO()\n",
    "imgdata = BytesIO()\n",
    "fig1.savefig(imgdata, format='png')\n",
    "# plt.figure.savefig(imgdata, format='png')\n",
    "imgdata.seek(0)  # rewind the data\n",
    "\n",
    "Image = ImageReader(imgdata)\n",
    "\n",
    "c = canvas.Canvas('test.pdf')\n",
    "c.drawImage(Image, cm, cm, inch, inch)\n",
    "c.save()"
   ]
  },
  {
   "cell_type": "markdown",
   "metadata": {},
   "source": [
    "**Code to add Plots as well as Textual Data**\n",
    "\n",
    "Plots Help is taken from answer on: https://stackoverflow.com/questions/31712386/loading-matplotlib-object-into-reportlab/32021013"
   ]
  },
  {
   "cell_type": "markdown",
   "metadata": {},
   "source": [
    "**Below Cell is used helpful for adding Plots to Report by Helping them to be added to a Story**"
   ]
  },
  {
   "cell_type": "code",
   "execution_count": 53,
   "metadata": {},
   "outputs": [],
   "source": [
    "def form_xo_reader(imgdata):\n",
    "    page, = PdfReader(imgdata).pages\n",
    "    return pagexobj(page)\n",
    "\n",
    "\n",
    "class PdfImage(Flowable):\n",
    "    def __init__(self, img_data, width=200, height=200):\n",
    "        self.img_width = width\n",
    "        self.img_height = height\n",
    "        self.img_data = img_data\n",
    "\n",
    "    def wrap(self, width, height):\n",
    "        return self.img_width, self.img_height\n",
    "\n",
    "    def drawOn(self, canv, x, y, _sW=0):\n",
    "        if _sW > 0 and hasattr(self, 'hAlign'):\n",
    "            a = self.hAlign\n",
    "            if a in ('CENTER', 'CENTRE', TA_CENTER):\n",
    "                x += 0.5*_sW\n",
    "            elif a in ('RIGHT', TA_RIGHT):\n",
    "                x += _sW\n",
    "            elif a not in ('LEFT', TA_LEFT):\n",
    "                raise ValueError(\"Bad hAlign value \" + str(a))\n",
    "        canv.saveState()\n",
    "        img = self.img_data\n",
    "        if isinstance(img, PdfDict):\n",
    "            xscale = self.img_width / img.BBox[2]\n",
    "            yscale = self.img_height / img.BBox[3]\n",
    "            canv.translate(x, y)\n",
    "            canv.scale(xscale, yscale)\n",
    "            canv.doForm(makerl(canv, img))\n",
    "        else:\n",
    "            canv.drawImage(img, x, y, self.img_width, self.img_height)\n",
    "        canv.restoreState()\n",
    "        \n",
    "\n",
    "\n",
    "def atoi(text):\n",
    "    return int(text) if text.isdigit() else text\n",
    "\n",
    "def natural_keys(text):\n",
    "    '''\n",
    "    alist.sort(key=natural_keys) sorts in human order\n",
    "    http://nedbatchelder.com/blog/200712/human_sorting.html\n",
    "    (See Toothy's implementation in the comments)\n",
    "    '''\n",
    "    return [ atoi(c) for c in re.split('(\\d+)', text) ]\n"
   ]
  },
  {
   "cell_type": "code",
   "execution_count": 60,
   "metadata": {},
   "outputs": [],
   "source": [
    "c_studentId=5109082\n",
    "lbreak_reportlab='<br/>'\n",
    "\n",
    "\n",
    "# Sample platypus document\n",
    "# From the FAQ at reportlab.org/oss/rl-toolkit/faq/#1.1\n",
    "from reportlab.platypus import SimpleDocTemplate, Paragraph, Spacer\n",
    "from reportlab.lib.styles import getSampleStyleSheet\n",
    "from reportlab.rl_config import defaultPageSize\n",
    "from reportlab.lib.units import inch\n",
    "\n",
    "PAGE_HEIGHT=defaultPageSize[1]\n",
    "PAGE_WIDTH=defaultPageSize[0]\n",
    "styles = getSampleStyleSheet()\n",
    "Title = \"Student Report__\"+str(c_studentId)\n",
    "pageinfo = c_studentId\n",
    "\n",
    "def myFirstPage(canvas, doc):\n",
    "    canvas.saveState()\n",
    "    canvas.setFont('Times-Bold',16)\n",
    "    canvas.drawCentredString(PAGE_WIDTH/2.0, PAGE_HEIGHT-108, Title)\n",
    "    canvas.setFont('Times-Roman',9)\n",
    "    canvas.drawString(inch, 0.75 * inch,\"First Page / %s\" % pageinfo)\n",
    "    canvas.restoreState()\n",
    "    \n",
    "def myLaterPages(canvas, doc):\n",
    "    canvas.saveState()\n",
    "    canvas.setFont('Times-Roman', 9)\n",
    "    canvas.drawString(inch, 0.75 * inch,\"Page %d %s\" % (doc.page, pageinfo))\n",
    "    canvas.restoreState()\n",
    "    \n",
    "def go():\n",
    "    doc = SimpleDocTemplate(\"reportWithGraphs.pdf\")\n",
    "    Story = [Spacer(1,2*inch)]\n",
    "    style = styles[\"Normal\"]\n",
    "    \n",
    "    ##################################################################################################\n",
    "    ##################################################################################################\n",
    "    #############################OVERALL AND SKILL RANKINGS###########################################\n",
    "    ##################################################################################################\n",
    "    ##################################################################################################\n",
    "    \n",
    "    overallResult=\"AGGREGATED SUMMARY\"+lbreak_reportlab\n",
    "    overallResult+=\"Your overall rank is : \"+str(studentScoresDf.loc[c_studentId,'skill_rank_0'])+\" out of \"+ str(numStudents)+lbreak_reportlab+' Total Score :'+str(studentScoresDf.loc[c_studentId,'score_skill_0'])+lbreak_reportlab\n",
    "    \n",
    "    p = Paragraph(overallResult, style)\n",
    "    Story.append(p)\n",
    "    Story.append(Spacer(1,0.2*inch))\n",
    "    \n",
    "    \n",
    "    \n",
    "    \n",
    "    scoreRankStr=\"SKILL WISE RESULTS\"+lbreak_reportlab+lbreak_reportlab+lbreak_reportlab+lbreak_reportlab\n",
    "    for t in range(1,numSkills+1):\n",
    "        scoreRankStr+= \"RESULTS FOR SKILL \"+ str(t)+lbreak_reportlab+lbreak_reportlab\n",
    "        scoreRankStr+=\"Skill_Rank:\"+str(studentScoresDf.loc[c_studentId,'skill_rank_'+str(t)])+\" out of \"+ str(numStudents)+lbreak_reportlab\n",
    "        scoreRankStr+='Skill_Score:'+str(studentScoresDf.loc[c_studentId,'score_skill_'+str(t)])+lbreak_reportlab\n",
    "        scoreRankStr+='Correctly Answered:'+str(dict_skill_correct[t][c_studentId])+lbreak_reportlab\n",
    "        scoreRankStr+='InCorrectly Answered:'+str(dict_skill_incorrect[t][c_studentId])+lbreak_reportlab\n",
    "        scoreRankStr+=lbreak_reportlab+lbreak_reportlab+lbreak_reportlab\n",
    "        \n",
    "    p = Paragraph(scoreRankStr, style)\n",
    "    Story.append(p)\n",
    "    Story.append(Spacer(1,0.2*inch))\n",
    "    \n",
    "    ##################################################################################################\n",
    "    ##################################################################################################\n",
    "    #############################CORRECTLY ANSWERED QUESTIONS#########################################\n",
    "    ##################################################################################################\n",
    "    ##################################################################################################\n",
    "    \n",
    "    correctAnswerStr='CORRECTLY ANSWERED QUESTIONS'+lbreak_reportlab+lbreak_reportlab+lbreak_reportlab\n",
    "    p = Paragraph(correctAnswerStr, style)\n",
    "    Story.append(p)\n",
    "    Story.append(Spacer(1,0.2*inch))\n",
    "    \n",
    "    for q_index in sorted(dict_correctResponses[c_studentId]):\n",
    "        curr_ans_str=\"\"\n",
    "        curr_correctPercentage=(reqdDf.loc[q_index,'correctPercentage'])\n",
    "        curr_weight=(reqdDf.loc[q_index,'weight'])\n",
    "        curr_ans_str+=''+q_index+'. You Answered this question correctly'+lbreak_reportlab\n",
    "        #curr_ans_str+='CorrectPercentage::'+str(curr_correctPercentage)+lbreak_reportlab\n",
    "        #curr_ans_str+='ProblemWeight::'+str(curr_weight)+lbreak_reportlab\n",
    "        curr_ans_str+=(lbreak_reportlab)\n",
    "        \n",
    "        p = Paragraph(curr_ans_str, style)\n",
    "        Story.append(p)\n",
    "        Story.append(Spacer(1,0.2*inch))\n",
    "\n",
    "        # Pie chart, where the slices will be ordered and plotted counter-clockwise:\n",
    "        labels = 'Correct', 'Incorrect'\n",
    "        sizes = [curr_correctPercentage, 100.0-curr_correctPercentage]\n",
    "        fig1, ax1 = plt.subplots()\n",
    "        ax1.pie(sizes, labels=labels, autopct='%1.1f%%',\n",
    "                shadow=True, startangle=90)\n",
    "        ax1.axis('equal')  # Equal aspect ratio ensures that pie is drawn as a circle.\n",
    "        imgdata = BytesIO()\n",
    "        fig1.savefig(imgdata, format='png')\n",
    "        # plt.figure.savefig(imgdata, format='png')\n",
    "        imgdata.seek(0)  # rewind the data\n",
    "        pieImage = ImageReader(imgdata)\n",
    "        imgMy = PdfImage(pieImage, width=200, height=120)\n",
    "        plt.close() \n",
    "        Story.append(imgMy)\n",
    "\n",
    "    ##################################################################################################\n",
    "    ##################################################################################################\n",
    "    #############################INCORRECTLY ANSWERED QUESTIONS#######################################\n",
    "    ##################################################################################################\n",
    "    ##################################################################################################\n",
    "    \n",
    "    correctAnswerStr='INCORRECTLY ANSWERED QUESTIONS'+lbreak_reportlab+lbreak_reportlab+lbreak_reportlab\n",
    "    p = Paragraph(correctAnswerStr, style)\n",
    "    Story.append(p)\n",
    "    Story.append(Spacer(1,0.2*inch))\n",
    "    \n",
    "    for q_index in sorted(dict_wrongResponses[c_studentId]):\n",
    "        curr_ans_str=\"\"\n",
    "        curr_correctPercentage=(reqdDf.loc[q_index,'correctPercentage'])\n",
    "        curr_weight=(reqdDf.loc[q_index,'weight'])\n",
    "        curr_ans_str+=''+q_index+'. You Answered this question wrongly'+lbreak_reportlab\n",
    "        #curr_ans_str+='CorrectPercentage::'+str(curr_correctPercentage)+lbreak_reportlab\n",
    "        #curr_ans_str+='ProblemWeight::'+str(curr_weight)+lbreak_reportlab\n",
    "        curr_ans_str+=(lbreak_reportlab)\n",
    "        \n",
    "        p = Paragraph(curr_ans_str, style)\n",
    "        Story.append(p)\n",
    "        Story.append(Spacer(1,0.2*inch))\n",
    "\n",
    "        # Pie chart, where the slices will be ordered and plotted counter-clockwise:\n",
    "        labels = 'Correct', 'Incorrect'\n",
    "        sizes = [curr_correctPercentage, 100.0-curr_correctPercentage]\n",
    "        fig1, ax1 = plt.subplots()\n",
    "        ax1.pie(sizes, labels=labels, autopct='%1.1f%%',\n",
    "                shadow=True, startangle=90)\n",
    "        ax1.axis('equal')  # Equal aspect ratio ensures that pie is drawn as a circle.\n",
    "        imgdata = BytesIO()\n",
    "        fig1.savefig(imgdata, format='png')\n",
    "        # plt.figure.savefig(imgdata, format='png')\n",
    "        imgdata.seek(0)  # rewind the data\n",
    "        pieImage = ImageReader(imgdata)\n",
    "        imgMy = PdfImage(pieImage, width=200, height=120)\n",
    "        plt.close() \n",
    "        Story.append(imgMy)\n",
    "        \n",
    "        \n",
    "        \n",
    "    \n",
    "\n",
    "    doc.build(Story, onFirstPage=myFirstPage, onLaterPages=myLaterPages)\n",
    "    \n",
    "if __name__ == \"__main__\":\n",
    "    go()"
   ]
  },
  {
   "cell_type": "code",
   "execution_count": null,
   "metadata": {},
   "outputs": [],
   "source": []
  }
 ],
 "metadata": {
  "kernelspec": {
   "display_name": "Python 3",
   "language": "python",
   "name": "python3"
  },
  "language_info": {
   "codemirror_mode": {
    "name": "ipython",
    "version": 3
   },
   "file_extension": ".py",
   "mimetype": "text/x-python",
   "name": "python",
   "nbconvert_exporter": "python",
   "pygments_lexer": "ipython3",
   "version": "3.6.3"
  }
 },
 "nbformat": 4,
 "nbformat_minor": 2
}
