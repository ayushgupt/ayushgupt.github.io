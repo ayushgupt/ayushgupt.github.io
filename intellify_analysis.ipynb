{
 "cells": [
  {
   "cell_type": "markdown",
   "metadata": {},
   "source": [
    "**All the imports Needed**"
   ]
  },
  {
   "cell_type": "code",
   "execution_count": 1,
   "metadata": {},
   "outputs": [],
   "source": [
    "import pandas as pd\n",
    "import numpy as np\n",
    "from sklearn.model_selection import cross_val_score, StratifiedKFold, train_test_split\n",
    "from sklearn.ensemble import RandomForestClassifier\n",
    "import matplotlib.pyplot as plt\n",
    "from sklearn.metrics import accuracy_score\n",
    "from sklearn.metrics import confusion_matrix\n",
    "from sklearn.metrics import f1_score\n",
    "from sklearn.feature_selection import SelectKBest\n",
    "from sklearn.feature_selection import chi2\n",
    "import seaborn as sns\n",
    "import os"
   ]
  },
  {
   "cell_type": "markdown",
   "metadata": {},
   "source": [
    "**Reading Data**"
   ]
  },
  {
   "cell_type": "code",
   "execution_count": 2,
   "metadata": {},
   "outputs": [
    {
     "name": "stdout",
     "output_type": "stream",
     "text": [
      "                           Quiz Name  Class  ZipGrade ID  External Id  \\\n",
      "0  Level 0 Cluny Convent High School    NaN      5012026          NaN   \n",
      "1  Level 0 Cluny Convent High School    NaN      5012025          NaN   \n",
      "2  Level 0 Cluny Convent High School    NaN      5012024          NaN   \n",
      "3  Level 0 Cluny Convent High School    NaN      5012022          NaN   \n",
      "4  Level 0 Cluny Convent High School    NaN      5012021          NaN   \n",
      "\n",
      "   First Name  Last Name  Num Questions  Num Correct  Percent Correct  \\\n",
      "0         NaN        NaN            180           64          35.5556   \n",
      "1         NaN        NaN            180           60          33.3333   \n",
      "2         NaN        NaN            180           36          20.0000   \n",
      "3         NaN        NaN            180           44          24.4444   \n",
      "4         NaN        NaN            180           60          33.3333   \n",
      "\n",
      "   Key Version ...   Q36  Q37  Q38  Q39  Q40  Q41  Q42  Q43  Q44  Q45  \n",
      "0            1 ...     4    0    0    4    0    4    4    0    0    0  \n",
      "1            1 ...     0    0    0    4    0    0    0    0    0    0  \n",
      "2            1 ...     0    0    0    0    0    0    4    0    0    0  \n",
      "3            1 ...     0    0    0    0    0    0    4    0    4    0  \n",
      "4            1 ...     0    0    0    0    0    0    4    0    0    0  \n",
      "\n",
      "[5 rows x 55 columns]\n"
     ]
    }
   ],
   "source": [
    "data_csv = pd.read_csv(\"data1.csv\")\n",
    "print(data_csv.head())"
   ]
  },
  {
   "cell_type": "markdown",
   "metadata": {},
   "source": [
    "**Data transposing, skill labelling and difficulty labelling of questions**"
   ]
  },
  {
   "cell_type": "code",
   "execution_count": 3,
   "metadata": {},
   "outputs": [
    {
     "name": "stdout",
     "output_type": "stream",
     "text": [
      "Each difficulty level has same number of questions.This is nice!\n"
     ]
    }
   ],
   "source": [
    "questionStartIndex=1\n",
    "questionEndIndex=45\n",
    "numQuestions=(questionEndIndex-questionStartIndex+1)\n",
    "numberOfDifficultyLevels=5.0\n",
    "if((questionEndIndex-questionStartIndex+1)%numberOfDifficultyLevels!=0):\n",
    "    print('There is uneven divide in the difficulty levels. Please look into it.')\n",
    "else:\n",
    "    print('Each difficulty level has same number of questions.This is nice!')\n",
    "questionsInEachDifficultyLevel=(questionEndIndex-questionStartIndex+1)/numberOfDifficultyLevels\n",
    "q_cols = ['Q' + str(i) for i in range(questionStartIndex,questionEndIndex+1)]\n",
    "answerCols=data_csv[q_cols]\n",
    "numStudents=answerCols.shape[0]\n",
    "# correctResponsesForEachQuestion=answerCols.astype(bool).sum(axis=0)\n",
    "# sortedcorrectResponsesForEachQuestion=correctResponsesForEachQuestion.sort_values(ascending=True)\n",
    "# sortedcorrectResponsesForEachQuestionDf=sortedcorrectResponsesForEachQuestion.to_frame()\n",
    "transposed_df=answerCols.transpose()\n",
    "transposed_df['numCorrect']=transposed_df.astype(bool).sum(axis=1)\n",
    "transposed_df['qid'] = range(questionStartIndex, questionStartIndex+len(transposed_df))\n",
    "transposed_df['correctPercentage']=transposed_df['numCorrect']*100.0/numStudents\n",
    "transposed_df['skillType']=0\n",
    "transposed_df.loc[(transposed_df['qid']>=1)&(transposed_df['qid']<=10),'skillType' ]=1\n",
    "transposed_df.loc[(transposed_df['qid']>=11)&(transposed_df['qid']<=20),'skillType' ]=2\n",
    "transposed_df.loc[(transposed_df['qid']>=21)&(transposed_df['qid']<=30),'skillType' ]=3\n",
    "transposed_df.loc[(transposed_df['qid']>=31)&(transposed_df['qid']<=40),'skillType' ]=4\n",
    "transposed_df.loc[(transposed_df['qid']>=41)&(transposed_df['qid']<=45),'skillType' ]=5\n",
    "colsReqd=['numCorrect','qid','correctPercentage','skillType']\n",
    "reqdDf=transposed_df[colsReqd].sort_values('correctPercentage',ascending=False)\n",
    "reqdDf['difficulty_level']=0\n",
    "for i in range(1,int(numberOfDifficultyLevels+1)):\n",
    "    reqdDf.iloc[int((i-1)*questionsInEachDifficultyLevel):int((i)*questionsInEachDifficultyLevel),-1]=i"
   ]
  },
  {
   "cell_type": "markdown",
   "metadata": {},
   "source": [
    "**Histogram of Question number to percentage of people who answered it correctly**"
   ]
  },
  {
   "cell_type": "code",
   "execution_count": 4,
   "metadata": {},
   "outputs": [
    {
     "data": {
      "text/plain": [
       "<matplotlib.axes._subplots.AxesSubplot at 0x7f60cc0c5e48>"
      ]
     },
     "execution_count": 4,
     "metadata": {},
     "output_type": "execute_result"
    },
    {
     "data": {
      "image/png": "[encoded data removed]",
      "text/plain": [
       "<Figure size 432x288 with 1 Axes>"
      ]
     },
     "metadata": {},
     "output_type": "display_data"
    }
   ],
   "source": [
    "reqdDf.plot(kind='bar',x='qid',y='correctPercentage')"
   ]
  },
  {
   "cell_type": "markdown",
   "metadata": {},
   "source": [
    "**Table of Question Wise Details ie. percentageCorrectlyAnswered, skill-type and difficulty-level**"
   ]
  },
  {
   "cell_type": "code",
   "execution_count": 5,
   "metadata": {},
   "outputs": [
    {
     "name": "stdout",
     "output_type": "stream",
     "text": [
      "     numCorrect  qid  correctPercentage  skillType  difficulty_level\n",
      "Q1            7    1               28.0          1                 3\n",
      "Q2            6    2               24.0          1                 3\n",
      "Q3           14    3               56.0          1                 1\n",
      "Q4            3    4               12.0          1                 5\n",
      "Q5            0    5                0.0          1                 5\n",
      "Q6            4    6               16.0          1                 4\n",
      "Q7            8    7               32.0          1                 2\n",
      "Q8            1    8                4.0          1                 5\n",
      "Q9           10    9               40.0          1                 2\n",
      "Q10           6   10               24.0          1                 3\n",
      "Q11           6   11               24.0          2                 3\n",
      "Q12           3   12               12.0          2                 5\n",
      "Q13           9   13               36.0          2                 2\n",
      "Q14          11   14               44.0          2                 1\n",
      "Q15           4   15               16.0          2                 4\n",
      "Q16           7   16               28.0          2                 3\n",
      "Q17          10   17               40.0          2                 2\n",
      "Q18          12   18               48.0          2                 1\n",
      "Q19          14   19               56.0          2                 1\n",
      "Q20          14   20               56.0          2                 1\n",
      "Q21           3   21               12.0          3                 5\n",
      "Q22           9   22               36.0          3                 2\n",
      "Q23           4   23               16.0          3                 4\n",
      "Q24           4   24               16.0          3                 4\n",
      "Q25           9   25               36.0          3                 2\n",
      "Q26           7   26               28.0          3                 3\n",
      "Q27           4   27               16.0          3                 4\n",
      "Q28           6   28               24.0          3                 4\n",
      "Q29           3   29               12.0          3                 5\n",
      "Q30           8   30               32.0          3                 2\n",
      "Q31          11   31               44.0          4                 1\n",
      "Q32           6   32               24.0          4                 3\n",
      "Q33          21   33               84.0          4                 1\n",
      "Q34          13   34               52.0          4                 1\n",
      "Q35           7   35               28.0          4                 3\n",
      "Q36           9   36               36.0          4                 2\n",
      "Q37           4   37               16.0          4                 4\n",
      "Q38           5   38               20.0          4                 4\n",
      "Q39          13   39               52.0          4                 1\n",
      "Q40           0   40                0.0          4                 5\n",
      "Q41           6   41               24.0          5                 4\n",
      "Q42           9   42               36.0          5                 2\n",
      "Q43           0   43                0.0          5                 5\n",
      "Q44           7   44               28.0          5                 3\n",
      "Q45           3   45               12.0          5                 5\n"
     ]
    }
   ],
   "source": [
    "print(reqdDf.sort_values('qid'))"
   ]
  },
  {
   "cell_type": "markdown",
   "metadata": {},
   "source": [
    "**Skill-Wise Difficulty Information**"
   ]
  },
  {
   "cell_type": "code",
   "execution_count": 6,
   "metadata": {},
   "outputs": [
    {
     "name": "stdout",
     "output_type": "stream",
     "text": [
      "           difficulty_level  skillType\n",
      "skillType                             \n",
      "1                       3.3          1\n",
      "2                       2.3          2\n",
      "3                       3.5          3\n",
      "4                       2.5          4\n",
      "5                       3.8          5\n"
     ]
    },
    {
     "data": {
      "text/plain": [
       "<matplotlib.axes._subplots.AxesSubplot at 0x7f60c9f6c2e8>"
      ]
     },
     "execution_count": 6,
     "metadata": {},
     "output_type": "execute_result"
    },
    {
     "data": {
      "image/png": "[encoded data removed]",
      "text/plain": [
       "<Figure size 432x288 with 1 Axes>"
      ]
     },
     "metadata": {},
     "output_type": "display_data"
    }
   ],
   "source": [
    "skillDifficultyDf=(reqdDf.groupby(['skillType'])['difficulty_level'].mean()).to_frame()\n",
    "skillDifficultyDf['skillType']=skillDifficultyDf.index\n",
    "print(skillDifficultyDf)\n",
    "skillDifficultyDf.plot(kind='bar',x='skillType',y='difficulty_level')"
   ]
  },
  {
   "cell_type": "markdown",
   "metadata": {},
   "source": [
    "**End of Task1**"
   ]
  },
  {
   "cell_type": "markdown",
   "metadata": {},
   "source": [
    "**Start of Task2**"
   ]
  },
  {
   "cell_type": "markdown",
   "metadata": {},
   "source": [
    "**Assigning Weight to each question as (1-fractionOfPeopleWhoAnsweredCorrectly)**"
   ]
  },
  {
   "cell_type": "code",
   "execution_count": 7,
   "metadata": {},
   "outputs": [
    {
     "name": "stdout",
     "output_type": "stream",
     "text": [
      "     numCorrect  qid  correctPercentage  skillType  difficulty_level  weight\n",
      "Q33          21   33               84.0          4                 1    0.16\n",
      "Q20          14   20               56.0          2                 1    0.44\n",
      "Q3           14    3               56.0          1                 1    0.44\n",
      "Q19          14   19               56.0          2                 1    0.44\n",
      "Q34          13   34               52.0          4                 1    0.48\n"
     ]
    }
   ],
   "source": [
    "reqdDf['weight']=1-(reqdDf['correctPercentage']/100)\n",
    "print(reqdDf.head())"
   ]
  },
  {
   "cell_type": "markdown",
   "metadata": {},
   "source": [
    "**Calculating data for each student**"
   ]
  },
  {
   "cell_type": "code",
   "execution_count": 27,
   "metadata": {},
   "outputs": [],
   "source": [
    "numSkills=5\n",
    "studentIdArray=data_csv['ZipGrade ID'].values\n",
    "responsesArray=answerCols.values\n",
    "dict_correctResponses={}\n",
    "dict_wrongResponses={}\n",
    "dict_skill_correct={}\n",
    "dict_skill_incorrect={}\n",
    "for c_skillType in range(1,numSkills+1):\n",
    "    dict_skill_correct[c_skillType]={}\n",
    "    dict_skill_incorrect[c_skillType]={}\n",
    "skillWiseScore={}\n",
    "for t in range(numStudents):\n",
    "    currStudentId=studentIdArray[t]\n",
    "    currResponses=responsesArray[t]\n",
    "    currDf=reqdDf.copy()\n",
    "    currDf['response']=currResponses\n",
    "    currDf['qStr']=currDf.index\n",
    "    correctMask=(currDf['response'].astype(bool)==True)\n",
    "    incorrectMask=(currDf['response'].astype(bool)==False)\n",
    "    for c_skillType in range(1,numSkills+1):\n",
    "        c_skillMask=(currDf['skillType']==c_skillType)\n",
    "        cs_correctMask = correctMask & c_skillMask\n",
    "        cs_incorrectMask = incorrectMask & c_skillMask\n",
    "        dict_skill_correct[c_skillType][currStudentId] =  cs_correctMask.sum()\n",
    "        dict_skill_incorrect[c_skillType][currStudentId] =  cs_incorrectMask.sum()\n",
    "    correctlyAnsweredQuestions=currDf['qStr'][correctMask].values\n",
    "    wronglyAnsweredQuestions=currDf['qStr'][incorrectMask].values\n",
    "    dict_correctResponses[currStudentId]=correctlyAnsweredQuestions\n",
    "    dict_wrongResponses[currStudentId]=wronglyAnsweredQuestions\n",
    "    curr_skill_weight_df=(currDf[correctMask].groupby(['skillType'])['weight'].sum().to_frame())\n",
    "    for c_skillType in range(1,numSkills+1):\n",
    "        if(c_skillType not in curr_skill_weight_df.index):\n",
    "            curr_skill_weight_df.loc[c_skillType] = [0.0]\n",
    "    skillWiseScore[currStudentId]=(curr_skill_weight_df.reset_index().sort_values('skillType'))['weight'].values"
   ]
  },
  {
   "cell_type": "markdown",
   "metadata": {},
   "source": [
    "**Relevant data for a student being fetched with student_id**"
   ]
  },
  {
   "cell_type": "code",
   "execution_count": 24,
   "metadata": {},
   "outputs": [
    {
     "name": "stdout",
     "output_type": "stream",
     "text": [
      "Correctly Answered Questions: ['Q20' 'Q3' 'Q22' 'Q35' 'Q26' 'Q1' 'Q16' 'Q28' 'Q38' 'Q12' 'Q5']\n",
      "Wrongly Answered Questions: ['Q33' 'Q19' 'Q34' 'Q39' 'Q18' 'Q14' 'Q31' 'Q9' 'Q17' 'Q36' 'Q25' 'Q13'\n",
      " 'Q42' 'Q7' 'Q30' 'Q44' 'Q32' 'Q2' 'Q11' 'Q10' 'Q41' 'Q37' 'Q23' 'Q27'\n",
      " 'Q24' 'Q15' 'Q6' 'Q29' 'Q21' 'Q4' 'Q45' 'Q8' 'Q40' 'Q43']\n",
      "Skill Wise Weighted Scores: [2.16 2.04 2.12 1.52 0.  ]\n",
      "Total Score: 7.84\n"
     ]
    }
   ],
   "source": [
    "studentId_whoseInfoIsNeeded=5012012\n",
    "print('Correctly Answered Questions:',dict_correctResponses[studentId_whoseInfoIsNeeded])\n",
    "print('Wrongly Answered Questions:',dict_wrongResponses[studentId_whoseInfoIsNeeded])\n",
    "print('Skill Wise Weighted Scores:',skillWiseScore[studentId_whoseInfoIsNeeded])\n",
    "print('Total Score:',skillWiseScore[studentId_whoseInfoIsNeeded].sum())"
   ]
  },
  {
   "cell_type": "markdown",
   "metadata": {},
   "source": [
    "**Adding Ranking data for each student for each skill**"
   ]
  },
  {
   "cell_type": "code",
   "execution_count": 25,
   "metadata": {},
   "outputs": [
    {
     "name": "stdout",
     "output_type": "stream",
     "text": [
      "         score_skill_1  score_skill_2  score_skill_3  score_skill_4  \\\n",
      "5012026           3.96           1.72           3.04           2.36   \n",
      "5012025           1.88           2.92           3.04           1.56   \n",
      "5012024           1.40           0.52           3.16           1.52   \n",
      "5012022           1.96           1.20           3.20           0.16   \n",
      "5012021           1.72           2.36           3.84           2.00   \n",
      "5012020           1.12           3.48           2.44           1.92   \n",
      "5012019           2.80           2.00           3.08           1.56   \n",
      "5012018           0.96           0.64           3.08           0.00   \n",
      "5012017           0.84           0.76           3.56           1.84   \n",
      "5012016           2.64           1.60           5.32           3.76   \n",
      "5012015           2.88           1.48           2.36           2.92   \n",
      "5012014           2.20           3.08           2.36           1.84   \n",
      "5012013           1.32           1.36           1.72           1.40   \n",
      "5012012           2.16           2.04           2.12           1.52   \n",
      "5012011           2.20           0.88           2.24           0.84   \n",
      "5012010           2.48           2.00           2.36           0.16   \n",
      "5012009           1.72           0.88           3.08           2.32   \n",
      "5012008           4.28           2.56           2.56           0.96   \n",
      "5012007           2.56           0.64           3.04           1.56   \n",
      "5012006           2.64           2.92           1.52           1.28   \n",
      "5012003           0.44           1.60           0.76           1.56   \n",
      "5012002           2.52           3.08           3.96           2.60   \n",
      "5012001           1.44           0.88           4.72           0.72   \n",
      "250               1.64           3.08           3.00           1.48   \n",
      "0                 2.04           1.16           3.08           1.48   \n",
      "\n",
      "         score_skill_5  score_skill_0  skill_rank_0  skill_rank_1  \\\n",
      "5012026           0.88          11.96           3.0           2.0   \n",
      "5012025           1.36          10.76           4.0          15.0   \n",
      "5012024           0.00           6.60          23.0          20.0   \n",
      "5012022           1.36           7.88          18.0          14.0   \n",
      "5012021           0.72          10.64           5.0          16.0   \n",
      "5012020           1.36          10.32           7.0          22.0   \n",
      "5012019           0.76          10.20           8.0           4.0   \n",
      "5012018           0.64           5.32          24.0          23.0   \n",
      "5012017           1.48           8.48          16.0          24.0   \n",
      "5012016           1.52          14.84           1.0           5.0   \n",
      "5012015           0.00           9.64          10.0           3.0   \n",
      "5012014           0.00           9.48          12.0          10.0   \n",
      "5012013           1.88           7.68          21.0          21.0   \n",
      "5012012           0.00           7.84          19.0          12.0   \n",
      "5012011           1.48           7.64          22.0          11.0   \n",
      "5012010           2.36           9.36          13.0           9.0   \n",
      "5012009           0.88           8.88          14.0          17.0   \n",
      "5012008           0.00          10.36           6.0           1.0   \n",
      "5012007           0.00           7.80          20.0           7.0   \n",
      "5012006           0.00           8.36          17.0           6.0   \n",
      "5012003           0.72           5.08          25.0          25.0   \n",
      "5012002           0.64          12.80           2.0           8.0   \n",
      "5012001           0.88           8.64          15.0          19.0   \n",
      "250               0.88          10.08           9.0          18.0   \n",
      "0                 1.72           9.48          11.0          13.0   \n",
      "\n",
      "         skill_rank_2  skill_rank_3  skill_rank_4  skill_rank_5  \n",
      "5012026          12.0          12.0           4.0          10.0  \n",
      "5012025           5.0          13.0          10.0           7.0  \n",
      "5012024          25.0           7.0          14.0          19.0  \n",
      "5012022          17.0           6.0          23.0           8.0  \n",
      "5012021           8.0           4.0           6.0          15.0  \n",
      "5012020           1.0          17.0           7.0           9.0  \n",
      "5012019          10.0           8.0          11.0          14.0  \n",
      "5012018          23.0           9.0          25.0          17.0  \n",
      "5012017          22.0           5.0           8.0           5.0  \n",
      "5012016          13.0           1.0           1.0           4.0  \n",
      "5012015          15.0          18.0           2.0          20.0  \n",
      "5012014           3.0          19.0           9.0          21.0  \n",
      "5012013          16.0          23.0          18.0           2.0  \n",
      "5012012           9.0          22.0          15.0          22.0  \n",
      "5012011          19.0          21.0          21.0           6.0  \n",
      "5012010          11.0          20.0          24.0           1.0  \n",
      "5012009          20.0          10.0           5.0          11.0  \n",
      "5012008           7.0          16.0          20.0          23.0  \n",
      "5012007          24.0          14.0          12.0          24.0  \n",
      "5012006           6.0          24.0          19.0          25.0  \n",
      "5012003          14.0          25.0          13.0          16.0  \n",
      "5012002           2.0           3.0           3.0          18.0  \n",
      "5012001          21.0           2.0          22.0          12.0  \n",
      "250               4.0          15.0          16.0          13.0  \n",
      "0                18.0          11.0          17.0           3.0  \n"
     ]
    }
   ],
   "source": [
    "studentScoresDf=pd.DataFrame.from_dict(skillWiseScore).transpose()\n",
    "studentScoresDf.columns = ['score_skill_' + str(i) for i in range(1,numSkills+1)]\n",
    "studentScoresDf['score_skill_0'] = studentScoresDf.sum(axis=1)\n",
    "for i in range(numSkills+1):\n",
    "    studentScoresDf['skill_rank_'+str(i)] = studentScoresDf['score_skill_'+str(i)].rank(ascending=False,method='first')\n",
    "print(studentScoresDf)"
   ]
  },
  {
   "cell_type": "markdown",
   "metadata": {},
   "source": [
    "**Making String for each part which is to be flushed to the pdf**"
   ]
  },
  {
   "cell_type": "code",
   "execution_count": 62,
   "metadata": {},
   "outputs": [],
   "source": [
    "c_studentId=5012026\n",
    "lbreak_reportlab='<br/>'\n",
    "correctAnswerStr='CORRECTLY ANSWERED QUESTIONS'+lbreak_reportlab+lbreak_reportlab+lbreak_reportlab\n",
    "for q_index in dict_correctResponses[c_studentId]:\n",
    "    curr_correctPercentage=(reqdDf.loc[q_index,'correctPercentage'])\n",
    "    curr_weight=(reqdDf.loc[q_index,'weight'])\n",
    "    correctAnswerStr+='QuestionNumber::'+q_index+lbreak_reportlab\n",
    "    correctAnswerStr+='CorrectPercentage::'+str(curr_correctPercentage)+lbreak_reportlab\n",
    "    correctAnswerStr+='ProblemWeight::'+str(curr_weight)+lbreak_reportlab\n",
    "    correctAnswerStr+=(lbreak_reportlab)\n",
    "\n",
    "wrongAnswerStr='INCORRECTLY ANSWERED QUESTIONS'+lbreak_reportlab+lbreak_reportlab\n",
    "for q_index in dict_wrongResponses[c_studentId]:\n",
    "    curr_correctPercentage=(reqdDf.loc[q_index,'correctPercentage'])\n",
    "    curr_weight=(reqdDf.loc[q_index,'weight'])\n",
    "    wrongAnswerStr+='QuestionNumber::'+q_index+lbreak_reportlab\n",
    "    wrongAnswerStr+='CorrectPercentage::'+str(curr_correctPercentage)+lbreak_reportlab\n",
    "    wrongAnswerStr+='ProblemWeight::'+str(curr_weight)+lbreak_reportlab\n",
    "    wrongAnswerStr+=(lbreak_reportlab)  "
   ]
  },
  {
   "cell_type": "code",
   "execution_count": 63,
   "metadata": {},
   "outputs": [],
   "source": [
    "overallResult=\"AGGREGATED SUMMARY\"+lbreak_reportlab\n",
    "overallResult+=\"Student Rank:\"+str(studentScoresDf.loc[c_studentId,'skill_rank_0'])+lbreak_reportlab+' Total Score :'+str(studentScoresDf.loc[c_studentId,'score_skill_0'])+lbreak_reportlab"
   ]
  },
  {
   "cell_type": "code",
   "execution_count": 68,
   "metadata": {},
   "outputs": [],
   "source": [
    "scoreRankStr=\"SKILL WISE RESULTS\"+lbreak_reportlab+lbreak_reportlab+lbreak_reportlab+lbreak_reportlab\n",
    "for t in range(1,numSkills+1):\n",
    "    scoreRankStr+= \"RESULTS FOR SKILL \"+ str(t)+lbreak_reportlab+lbreak_reportlab\n",
    "    scoreRankStr+=\"Skill_Rank:\"+str(studentScoresDf.loc[c_studentId,'skill_rank_'+str(t)])+lbreak_reportlab\n",
    "    scoreRankStr+='Skill_Score:'+str(studentScoresDf.loc[c_studentId,'score_skill_'+str(t)])+lbreak_reportlab\n",
    "    scoreRankStr+='Correctly Answered:'+str(dict_skill_correct[t][c_studentId])+lbreak_reportlab\n",
    "    scoreRankStr+='InCorrectly Answered:'+str(dict_skill_incorrect[t][c_studentId])+lbreak_reportlab\n",
    "    scoreRankStr+=lbreak_reportlab+lbreak_reportlab+lbreak_reportlab"
   ]
  },
  {
   "cell_type": "markdown",
   "metadata": {},
   "source": [
    "**Final Flushing data to the Pdf**"
   ]
  },
  {
   "cell_type": "code",
   "execution_count": 69,
   "metadata": {},
   "outputs": [],
   "source": [
    "# Sample platypus document\n",
    "# From the FAQ at reportlab.org/oss/rl-toolkit/faq/#1.1\n",
    "from reportlab.platypus import SimpleDocTemplate, Paragraph, Spacer\n",
    "from reportlab.lib.styles import getSampleStyleSheet\n",
    "from reportlab.rl_config import defaultPageSize\n",
    "from reportlab.lib.units import inch\n",
    "\n",
    "PAGE_HEIGHT=defaultPageSize[1]\n",
    "PAGE_WIDTH=defaultPageSize[0]\n",
    "styles = getSampleStyleSheet()\n",
    "Title = \"Student Report__\"+str(c_studentId)\n",
    "pageinfo = c_studentId\n",
    "\n",
    "def myFirstPage(canvas, doc):\n",
    "    canvas.saveState()\n",
    "    canvas.setFont('Times-Bold',16)\n",
    "    canvas.drawCentredString(PAGE_WIDTH/2.0, PAGE_HEIGHT-108, Title)\n",
    "    canvas.setFont('Times-Roman',9)\n",
    "    canvas.drawString(inch, 0.75 * inch,\"First Page / %s\" % pageinfo)\n",
    "    canvas.restoreState()\n",
    "    \n",
    "def myLaterPages(canvas, doc):\n",
    "    canvas.saveState()\n",
    "    canvas.setFont('Times-Roman', 9)\n",
    "    canvas.drawString(inch, 0.75 * inch,\"Page %d %s\" % (doc.page, pageinfo))\n",
    "    canvas.restoreState()\n",
    "    \n",
    "def go():\n",
    "    doc = SimpleDocTemplate(\"phello.pdf\")\n",
    "    Story = [Spacer(1,2*inch)]\n",
    "    style = styles[\"Normal\"]\n",
    "    p = Paragraph(correctAnswerStr, style)\n",
    "    Story.append(p)\n",
    "    Story.append(Spacer(1,0.2*inch))\n",
    "    p = Paragraph(wrongAnswerStr, style)\n",
    "    Story.append(p)\n",
    "    Story.append(Spacer(1,0.2*inch))\n",
    "    \n",
    "    p = Paragraph(overallResult, style)\n",
    "    Story.append(p)\n",
    "    Story.append(Spacer(1,0.2*inch))\n",
    "    \n",
    "    p = Paragraph(scoreRankStr, style)\n",
    "    Story.append(p)\n",
    "    Story.append(Spacer(1,0.2*inch))\n",
    "    doc.build(Story, onFirstPage=myFirstPage, onLaterPages=myLaterPages)\n",
    "    \n",
    "if __name__ == \"__main__\":\n",
    "    go()"
   ]
  },
  {
   "cell_type": "markdown",
   "metadata": {},
   "source": [
    "**Example of how what type of chart can be inserted for each question**"
   ]
  },
  {
   "cell_type": "code",
   "execution_count": 72,
   "metadata": {},
   "outputs": [
    {
     "data": {
      "image/png": "[encoded data removed]",
      "text/plain": [
       "<Figure size 432x288 with 1 Axes>"
      ]
     },
     "metadata": {},
     "output_type": "display_data"
    }
   ],
   "source": [
    "import matplotlib.pyplot as plt\n",
    "\n",
    "for q_index in dict_correctResponses[c_studentId]:\n",
    "    curr_correctPercentage=(reqdDf.loc[q_index,'correctPercentage'])\n",
    "    curr_weight=(reqdDf.loc[q_index,'weight'])\n",
    "\n",
    "# Pie chart, where the slices will be ordered and plotted counter-clockwise:\n",
    "labels = 'Correct', 'Incorrect'\n",
    "sizes = [curr_correctPercentage, 100.0-curr_correctPercentage]\n",
    "fig1, ax1 = plt.subplots()\n",
    "ax1.pie(sizes, labels=labels, autopct='%1.1f%%',\n",
    "        shadow=True, startangle=90)\n",
    "ax1.axis('equal')  # Equal aspect ratio ensures that pie is drawn as a circle.\n",
    "\n",
    "plt.show()"
   ]
  },
  {
   "cell_type": "code",
   "execution_count": null,
   "metadata": {},
   "outputs": [],
   "source": []
  }
 ],
 "metadata": {
  "kernelspec": {
   "display_name": "Python 3",
   "language": "python",
   "name": "python3"
  },
  "language_info": {
   "codemirror_mode": {
    "name": "ipython",
    "version": 3
   },
   "file_extension": ".py",
   "mimetype": "text/x-python",
   "name": "python",
   "nbconvert_exporter": "python",
   "pygments_lexer": "ipython3",
   "version": "3.6.3"
  }
 },
 "nbformat": 4,
 "nbformat_minor": 2
}
