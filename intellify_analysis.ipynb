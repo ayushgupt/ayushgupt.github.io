{
 "cells": [
  {
   "cell_type": "markdown",
   "metadata": {},
   "source": [
    "**All the imports Needed**"
   ]
  },
  {
   "cell_type": "code",
   "execution_count": 3,
   "metadata": {},
   "outputs": [],
   "source": [
    "import pandas as pd\n",
    "import numpy as np\n",
    "from sklearn.model_selection import cross_val_score, StratifiedKFold, train_test_split\n",
    "from sklearn.ensemble import RandomForestClassifier\n",
    "import matplotlib.pyplot as plt\n",
    "from sklearn.metrics import accuracy_score\n",
    "from sklearn.metrics import confusion_matrix\n",
    "from sklearn.metrics import f1_score\n",
    "from sklearn.feature_selection import SelectKBest\n",
    "from sklearn.feature_selection import chi2\n",
    "import seaborn as sns\n",
    "import os"
   ]
  },
  {
   "cell_type": "markdown",
   "metadata": {},
   "source": [
    "**Reading Data**"
   ]
  },
  {
   "cell_type": "code",
   "execution_count": 33,
   "metadata": {},
   "outputs": [
    {
     "name": "stdout",
     "output_type": "stream",
     "text": [
      "                           Quiz Name  Class  ZipGrade ID  External Id  \\\n",
      "0  Level 0 Cluny Convent High School    NaN      5012026          NaN   \n",
      "1  Level 0 Cluny Convent High School    NaN      5012025          NaN   \n",
      "2  Level 0 Cluny Convent High School    NaN      5012024          NaN   \n",
      "3  Level 0 Cluny Convent High School    NaN      5012022          NaN   \n",
      "4  Level 0 Cluny Convent High School    NaN      5012021          NaN   \n",
      "\n",
      "   First Name  Last Name  Num Questions  Num Correct  Percent Correct  \\\n",
      "0         NaN        NaN            180           64          35.5556   \n",
      "1         NaN        NaN            180           60          33.3333   \n",
      "2         NaN        NaN            180           36          20.0000   \n",
      "3         NaN        NaN            180           44          24.4444   \n",
      "4         NaN        NaN            180           60          33.3333   \n",
      "\n",
      "   Key Version ...   Q36  Q37  Q38  Q39  Q40  Q41  Q42  Q43  Q44  Q45  \n",
      "0            1 ...     4    0    0    4    0    4    4    0    0    0  \n",
      "1            1 ...     0    0    0    4    0    0    0    0    0    0  \n",
      "2            1 ...     0    0    0    0    0    0    4    0    0    0  \n",
      "3            1 ...     0    0    0    0    0    0    4    0    4    0  \n",
      "4            1 ...     0    0    0    0    0    0    4    0    0    0  \n",
      "\n",
      "[5 rows x 55 columns]\n"
     ]
    }
   ],
   "source": [
    "data_csv = pd.read_csv(\"data1.csv\")\n",
    "print(data_csv.head())"
   ]
  },
  {
   "cell_type": "markdown",
   "metadata": {},
   "source": [
    "**Data transposing, skill labelling and difficulty labelling of questions**"
   ]
  },
  {
   "cell_type": "code",
   "execution_count": 6,
   "metadata": {},
   "outputs": [
    {
     "name": "stdout",
     "output_type": "stream",
     "text": [
      "Each difficulty level has same number of questions.This is nice!\n"
     ]
    }
   ],
   "source": [
    "questionStartIndex=1\n",
    "questionEndIndex=45\n",
    "numQuestions=(questionEndIndex-questionStartIndex+1)\n",
    "numberOfDifficultyLevels=5.0\n",
    "if((questionEndIndex-questionStartIndex+1)%numberOfDifficultyLevels!=0):\n",
    "    print('There is uneven divide in the difficulty levels. Please look into it.')\n",
    "else:\n",
    "    print('Each difficulty level has same number of questions.This is nice!')\n",
    "questionsInEachDifficultyLevel=(questionEndIndex-questionStartIndex+1)/numberOfDifficultyLevels\n",
    "q_cols = ['Q' + str(i) for i in range(questionStartIndex,questionEndIndex+1)]\n",
    "answerCols=data_csv[q_cols]\n",
    "numStudents=answerCols.shape[0]\n",
    "# correctResponsesForEachQuestion=answerCols.astype(bool).sum(axis=0)\n",
    "# sortedcorrectResponsesForEachQuestion=correctResponsesForEachQuestion.sort_values(ascending=True)\n",
    "# sortedcorrectResponsesForEachQuestionDf=sortedcorrectResponsesForEachQuestion.to_frame()\n",
    "transposed_df=answerCols.transpose()\n",
    "transposed_df['numCorrect']=transposed_df.astype(bool).sum(axis=1)\n",
    "transposed_df['qid'] = range(questionStartIndex, questionStartIndex+len(transposed_df))\n",
    "transposed_df['correctPercentage']=transposed_df['numCorrect']*100.0/numStudents\n",
    "transposed_df['skillType']=0\n",
    "transposed_df.loc[(transposed_df['qid']>=1)&(transposed_df['qid']<=10),'skillType' ]=1\n",
    "transposed_df.loc[(transposed_df['qid']>=11)&(transposed_df['qid']<=20),'skillType' ]=2\n",
    "transposed_df.loc[(transposed_df['qid']>=21)&(transposed_df['qid']<=30),'skillType' ]=3\n",
    "transposed_df.loc[(transposed_df['qid']>=31)&(transposed_df['qid']<=40),'skillType' ]=4\n",
    "transposed_df.loc[(transposed_df['qid']>=41)&(transposed_df['qid']<=45),'skillType' ]=5\n",
    "colsReqd=['numCorrect','qid','correctPercentage','skillType']\n",
    "reqdDf=transposed_df[colsReqd].sort_values('correctPercentage',ascending=False)\n",
    "reqdDf['difficulty_level']=0\n",
    "for i in range(1,int(numberOfDifficultyLevels+1)):\n",
    "    reqdDf.iloc[int((i-1)*questionsInEachDifficultyLevel):int((i)*questionsInEachDifficultyLevel),-1]=i"
   ]
  },
  {
   "cell_type": "markdown",
   "metadata": {},
   "source": [
    "**Histogram of Question number to percentage of people who answered it correctly**"
   ]
  },
  {
   "cell_type": "code",
   "execution_count": 31,
   "metadata": {},
   "outputs": [
    {
     "data": {
      "text/plain": [
       "<matplotlib.axes._subplots.AxesSubplot at 0x7f9276bdf940>"
      ]
     },
     "execution_count": 31,
     "metadata": {},
     "output_type": "execute_result"
    },
    {
     "data": {
      "image/png": "[encoded data removed]",
      "text/plain": [
       "<Figure size 432x288 with 1 Axes>"
      ]
     },
     "metadata": {},
     "output_type": "display_data"
    }
   ],
   "source": [
    "reqdDf.plot(kind='bar',x='qid',y='correctPercentage')"
   ]
  },
  {
   "cell_type": "markdown",
   "metadata": {},
   "source": [
    "**Table of Question Wise Details ie. percentageCorrectlyAnswered, skill-type and difficulty-level**"
   ]
  },
  {
   "cell_type": "code",
   "execution_count": 10,
   "metadata": {},
   "outputs": [
    {
     "name": "stdout",
     "output_type": "stream",
     "text": [
      "     numCorrect  qid  correctPercentage  skillType  difficulty_level\n",
      "Q1            7    1               28.0          1                 3\n",
      "Q2            6    2               24.0          1                 3\n",
      "Q3           14    3               56.0          1                 1\n",
      "Q4            3    4               12.0          1                 5\n",
      "Q5            0    5                0.0          1                 5\n",
      "Q6            4    6               16.0          1                 4\n",
      "Q7            8    7               32.0          1                 2\n",
      "Q8            1    8                4.0          1                 5\n",
      "Q9           10    9               40.0          1                 2\n",
      "Q10           6   10               24.0          1                 3\n",
      "Q11           6   11               24.0          2                 3\n",
      "Q12           3   12               12.0          2                 5\n",
      "Q13           9   13               36.0          2                 2\n",
      "Q14          11   14               44.0          2                 1\n",
      "Q15           4   15               16.0          2                 4\n",
      "Q16           7   16               28.0          2                 3\n",
      "Q17          10   17               40.0          2                 2\n",
      "Q18          12   18               48.0          2                 1\n",
      "Q19          14   19               56.0          2                 1\n",
      "Q20          14   20               56.0          2                 1\n",
      "Q21           3   21               12.0          3                 5\n",
      "Q22           9   22               36.0          3                 2\n",
      "Q23           4   23               16.0          3                 4\n",
      "Q24           4   24               16.0          3                 4\n",
      "Q25           9   25               36.0          3                 2\n",
      "Q26           7   26               28.0          3                 3\n",
      "Q27           4   27               16.0          3                 4\n",
      "Q28           6   28               24.0          3                 4\n",
      "Q29           3   29               12.0          3                 5\n",
      "Q30           8   30               32.0          3                 2\n",
      "Q31          11   31               44.0          4                 1\n",
      "Q32           6   32               24.0          4                 3\n",
      "Q33          21   33               84.0          4                 1\n",
      "Q34          13   34               52.0          4                 1\n",
      "Q35           7   35               28.0          4                 3\n",
      "Q36           9   36               36.0          4                 2\n",
      "Q37           4   37               16.0          4                 4\n",
      "Q38           5   38               20.0          4                 4\n",
      "Q39          13   39               52.0          4                 1\n",
      "Q40           0   40                0.0          4                 5\n",
      "Q41           6   41               24.0          5                 4\n",
      "Q42           9   42               36.0          5                 2\n",
      "Q43           0   43                0.0          5                 5\n",
      "Q44           7   44               28.0          5                 3\n",
      "Q45           3   45               12.0          5                 5\n"
     ]
    }
   ],
   "source": [
    "print(reqdDf.sort_values('qid'))"
   ]
  },
  {
   "cell_type": "markdown",
   "metadata": {},
   "source": [
    "**Skill-Wise Difficulty Information**"
   ]
  },
  {
   "cell_type": "code",
   "execution_count": 30,
   "metadata": {},
   "outputs": [
    {
     "name": "stdout",
     "output_type": "stream",
     "text": [
      "           difficulty_level  skillType\n",
      "skillType                             \n",
      "1                       3.3          1\n",
      "2                       2.3          2\n",
      "3                       3.5          3\n",
      "4                       2.5          4\n",
      "5                       3.8          5\n"
     ]
    },
    {
     "data": {
      "text/plain": [
       "<matplotlib.axes._subplots.AxesSubplot at 0x7f9276c7c2e8>"
      ]
     },
     "execution_count": 30,
     "metadata": {},
     "output_type": "execute_result"
    },
    {
     "data": {
      "image/png": "[encoded data removed]",
      "text/plain": [
       "<Figure size 432x288 with 1 Axes>"
      ]
     },
     "metadata": {},
     "output_type": "display_data"
    }
   ],
   "source": [
    "skillDifficultyDf=(reqdDf.groupby(['skillType'])['difficulty_level'].mean()).to_frame()\n",
    "skillDifficultyDf['skillType']=skillDifficultyDf.index\n",
    "print(skillDifficultyDf)\n",
    "skillDifficultyDf.plot(kind='bar',x='skillType',y='difficulty_level')"
   ]
  },
  {
   "cell_type": "markdown",
   "metadata": {},
   "source": [
    "**End of Task1**"
   ]
  },
  {
   "cell_type": "markdown",
   "metadata": {},
   "source": [
    "**Start of Task2**"
   ]
  },
  {
   "cell_type": "markdown",
   "metadata": {},
   "source": [
    "**Assigning Weight to each question as (1-fractionOfPeopleWhoAnsweredCorrectly)**"
   ]
  },
  {
   "cell_type": "code",
   "execution_count": 40,
   "metadata": {},
   "outputs": [
    {
     "name": "stdout",
     "output_type": "stream",
     "text": [
      "     numCorrect  qid  correctPercentage  skillType  difficulty_level  weight\n",
      "Q33          21   33               84.0          4                 1    0.16\n",
      "Q20          14   20               56.0          2                 1    0.44\n",
      "Q3           14    3               56.0          1                 1    0.44\n",
      "Q19          14   19               56.0          2                 1    0.44\n",
      "Q34          13   34               52.0          4                 1    0.48\n"
     ]
    }
   ],
   "source": [
    "reqdDf['weight']=1-(reqdDf['correctPercentage']/100)\n",
    "print(reqdDf.head())"
   ]
  },
  {
   "cell_type": "markdown",
   "metadata": {},
   "source": [
    "**Calculating data for each student**"
   ]
  },
  {
   "cell_type": "code",
   "execution_count": 92,
   "metadata": {},
   "outputs": [],
   "source": [
    "studentIdArray=data_csv['ZipGrade ID'].values\n",
    "responsesArray=answerCols.values\n",
    "dict_correctResponses={}\n",
    "dict_wrongResponses={}\n",
    "skillWiseScore={}\n",
    "for t in range(numStudents):\n",
    "    currStudentId=studentIdArray[t]\n",
    "    currResponses=responsesArray[t]\n",
    "    currDf=reqdDf.copy()\n",
    "    currDf['response']=currResponses\n",
    "    currDf['qStr']=currDf.index\n",
    "    currDf.head()\n",
    "    correctMask=(currDf['response'].astype(bool)==True)\n",
    "    incorrectMask=(currDf['response'].astype(bool)==False)\n",
    "    correctlyAnsweredQuestions=currDf['qStr'][correctMask].values\n",
    "    wronglyAnsweredQuestions=currDf['qStr'][incorrectMask].values\n",
    "    dict_correctResponses[currStudentId]=correctlyAnsweredQuestions\n",
    "    dict_wrongResponses[currStudentId]=wronglyAnsweredQuestions\n",
    "    curr_skill_weight_df=(currDf[correctMask].groupby(['skillType'])['weight'].sum().to_frame())\n",
    "    for c_skillType in range(1,6):\n",
    "        if(c_skillType not in curr_skill_weight_df.index):\n",
    "            curr_skill_weight_df[c_skillType]=0.0\n",
    "    skillWiseScore[currStudentId]=(curr_skill_weight_df.reset_index().sort_values('skillType'))['weight'].values"
   ]
  },
  {
   "cell_type": "markdown",
   "metadata": {},
   "source": [
    "**Relevant data for a student being fetched with student_id**"
   ]
  },
  {
   "cell_type": "code",
   "execution_count": 99,
   "metadata": {},
   "outputs": [
    {
     "name": "stdout",
     "output_type": "stream",
     "text": [
      "Correctly Answered Questions: ['Q20' 'Q3' 'Q22' 'Q35' 'Q26' 'Q1' 'Q16' 'Q28' 'Q38' 'Q12' 'Q5']\n",
      "Wrongly Answered Questions: ['Q33' 'Q19' 'Q34' 'Q39' 'Q18' 'Q14' 'Q31' 'Q9' 'Q17' 'Q36' 'Q25' 'Q13'\n",
      " 'Q42' 'Q7' 'Q30' 'Q44' 'Q32' 'Q2' 'Q11' 'Q10' 'Q41' 'Q37' 'Q23' 'Q27'\n",
      " 'Q24' 'Q15' 'Q6' 'Q29' 'Q21' 'Q4' 'Q45' 'Q8' 'Q40' 'Q43']\n",
      "Skill Wise Weighted Scores: [2.16 2.04 2.12 1.52]\n",
      "Total Score: 7.84\n"
     ]
    }
   ],
   "source": [
    "studentId_whoseInfoIsNeeded=5012012\n",
    "print('Correctly Answered Questions:',dict_correctResponses[studentId_whoseInfoIsNeeded])\n",
    "print('Wrongly Answered Questions:',dict_wrongResponses[studentId_whoseInfoIsNeeded])\n",
    "print('Skill Wise Weighted Scores:',skillWiseScore[studentId_whoseInfoIsNeeded])\n",
    "print('Total Score:',skillWiseScore[studentId_whoseInfoIsNeeded].sum())"
   ]
  }
 ],
 "metadata": {
  "kernelspec": {
   "display_name": "Python 3",
   "language": "python",
   "name": "python3"
  },
  "language_info": {
   "codemirror_mode": {
    "name": "ipython",
    "version": 3
   },
   "file_extension": ".py",
   "mimetype": "text/x-python",
   "name": "python",
   "nbconvert_exporter": "python",
   "pygments_lexer": "ipython3",
   "version": "3.6.3"
  }
 },
 "nbformat": 4,
 "nbformat_minor": 2
}
